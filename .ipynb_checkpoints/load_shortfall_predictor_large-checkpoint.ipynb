{
 "cells": [
  {
   "cell_type": "code",
   "execution_count": 46,
   "id": "1b3b1e11",
   "metadata": {},
   "outputs": [],
   "source": [
    "import pandas as pd # To manage data as data frames\n",
    "import numpy as np # To manipulate data as arrays\n",
    "from sklearn.model_selection import train_test_split\n",
    "from sklearn.ensemble import RandomForestRegressor\n",
    "\n",
    "import pickle"
   ]
  },
  {
   "cell_type": "code",
   "execution_count": 47,
   "id": "083e44f3",
   "metadata": {},
   "outputs": [],
   "source": [
    "# import regression module\n",
    "#from sklearn.linear_model import LinearRegression\n",
    "\n",
    "# split predictors and response\n",
    "#X = df.drop(['mpg'], axis=1)\n",
    "#y = df['mpg']"
   ]
  },
  {
   "cell_type": "code",
   "execution_count": 48,
   "id": "6acb24ad",
   "metadata": {},
   "outputs": [
    {
     "data": {
      "text/html": [
       "<div>\n",
       "<style scoped>\n",
       "    .dataframe tbody tr th:only-of-type {\n",
       "        vertical-align: middle;\n",
       "    }\n",
       "\n",
       "    .dataframe tbody tr th {\n",
       "        vertical-align: top;\n",
       "    }\n",
       "\n",
       "    .dataframe thead th {\n",
       "        text-align: right;\n",
       "    }\n",
       "</style>\n",
       "<table border=\"1\" class=\"dataframe\">\n",
       "  <thead>\n",
       "    <tr style=\"text-align: right;\">\n",
       "      <th></th>\n",
       "      <th>Unnamed: 0</th>\n",
       "      <th>time</th>\n",
       "      <th>Madrid_wind_speed</th>\n",
       "      <th>Valencia_wind_deg</th>\n",
       "      <th>Bilbao_rain_1h</th>\n",
       "      <th>Valencia_wind_speed</th>\n",
       "      <th>Seville_humidity</th>\n",
       "      <th>Madrid_humidity</th>\n",
       "      <th>Bilbao_clouds_all</th>\n",
       "      <th>Bilbao_wind_speed</th>\n",
       "      <th>...</th>\n",
       "      <th>Madrid_temp_max</th>\n",
       "      <th>Barcelona_temp</th>\n",
       "      <th>Bilbao_temp_min</th>\n",
       "      <th>Bilbao_temp</th>\n",
       "      <th>Barcelona_temp_min</th>\n",
       "      <th>Bilbao_temp_max</th>\n",
       "      <th>Seville_temp_min</th>\n",
       "      <th>Madrid_temp</th>\n",
       "      <th>Madrid_temp_min</th>\n",
       "      <th>load_shortfall_3h</th>\n",
       "    </tr>\n",
       "  </thead>\n",
       "  <tbody>\n",
       "    <tr>\n",
       "      <th>0</th>\n",
       "      <td>0</td>\n",
       "      <td>2015-01-01 03:00:00</td>\n",
       "      <td>0.666667</td>\n",
       "      <td>level_5</td>\n",
       "      <td>0.0</td>\n",
       "      <td>0.666667</td>\n",
       "      <td>74.333333</td>\n",
       "      <td>64.000000</td>\n",
       "      <td>0.0</td>\n",
       "      <td>1.000000</td>\n",
       "      <td>...</td>\n",
       "      <td>265.938000</td>\n",
       "      <td>281.013000</td>\n",
       "      <td>269.338615</td>\n",
       "      <td>269.338615</td>\n",
       "      <td>281.013000</td>\n",
       "      <td>269.338615</td>\n",
       "      <td>274.254667</td>\n",
       "      <td>265.938000</td>\n",
       "      <td>265.938000</td>\n",
       "      <td>6715.666667</td>\n",
       "    </tr>\n",
       "    <tr>\n",
       "      <th>1</th>\n",
       "      <td>1</td>\n",
       "      <td>2015-01-01 06:00:00</td>\n",
       "      <td>0.333333</td>\n",
       "      <td>level_10</td>\n",
       "      <td>0.0</td>\n",
       "      <td>1.666667</td>\n",
       "      <td>78.333333</td>\n",
       "      <td>64.666667</td>\n",
       "      <td>0.0</td>\n",
       "      <td>1.000000</td>\n",
       "      <td>...</td>\n",
       "      <td>266.386667</td>\n",
       "      <td>280.561667</td>\n",
       "      <td>270.376000</td>\n",
       "      <td>270.376000</td>\n",
       "      <td>280.561667</td>\n",
       "      <td>270.376000</td>\n",
       "      <td>274.945000</td>\n",
       "      <td>266.386667</td>\n",
       "      <td>266.386667</td>\n",
       "      <td>4171.666667</td>\n",
       "    </tr>\n",
       "    <tr>\n",
       "      <th>2</th>\n",
       "      <td>2</td>\n",
       "      <td>2015-01-01 09:00:00</td>\n",
       "      <td>1.000000</td>\n",
       "      <td>level_9</td>\n",
       "      <td>0.0</td>\n",
       "      <td>1.000000</td>\n",
       "      <td>71.333333</td>\n",
       "      <td>64.333333</td>\n",
       "      <td>0.0</td>\n",
       "      <td>1.000000</td>\n",
       "      <td>...</td>\n",
       "      <td>272.708667</td>\n",
       "      <td>281.583667</td>\n",
       "      <td>275.027229</td>\n",
       "      <td>275.027229</td>\n",
       "      <td>281.583667</td>\n",
       "      <td>275.027229</td>\n",
       "      <td>278.792000</td>\n",
       "      <td>272.708667</td>\n",
       "      <td>272.708667</td>\n",
       "      <td>4274.666667</td>\n",
       "    </tr>\n",
       "    <tr>\n",
       "      <th>3</th>\n",
       "      <td>3</td>\n",
       "      <td>2015-01-01 12:00:00</td>\n",
       "      <td>1.000000</td>\n",
       "      <td>level_8</td>\n",
       "      <td>0.0</td>\n",
       "      <td>1.000000</td>\n",
       "      <td>65.333333</td>\n",
       "      <td>56.333333</td>\n",
       "      <td>0.0</td>\n",
       "      <td>1.000000</td>\n",
       "      <td>...</td>\n",
       "      <td>281.895219</td>\n",
       "      <td>283.434104</td>\n",
       "      <td>281.135063</td>\n",
       "      <td>281.135063</td>\n",
       "      <td>283.434104</td>\n",
       "      <td>281.135063</td>\n",
       "      <td>285.394000</td>\n",
       "      <td>281.895219</td>\n",
       "      <td>281.895219</td>\n",
       "      <td>5075.666667</td>\n",
       "    </tr>\n",
       "    <tr>\n",
       "      <th>4</th>\n",
       "      <td>4</td>\n",
       "      <td>2015-01-01 15:00:00</td>\n",
       "      <td>1.000000</td>\n",
       "      <td>level_7</td>\n",
       "      <td>0.0</td>\n",
       "      <td>1.000000</td>\n",
       "      <td>59.000000</td>\n",
       "      <td>57.000000</td>\n",
       "      <td>2.0</td>\n",
       "      <td>0.333333</td>\n",
       "      <td>...</td>\n",
       "      <td>280.678437</td>\n",
       "      <td>284.213167</td>\n",
       "      <td>282.252063</td>\n",
       "      <td>282.252063</td>\n",
       "      <td>284.213167</td>\n",
       "      <td>282.252063</td>\n",
       "      <td>285.513719</td>\n",
       "      <td>280.678437</td>\n",
       "      <td>280.678437</td>\n",
       "      <td>6620.666667</td>\n",
       "    </tr>\n",
       "  </tbody>\n",
       "</table>\n",
       "<p>5 rows × 49 columns</p>\n",
       "</div>"
      ],
      "text/plain": [
       "   Unnamed: 0                 time  Madrid_wind_speed Valencia_wind_deg  \\\n",
       "0           0  2015-01-01 03:00:00           0.666667           level_5   \n",
       "1           1  2015-01-01 06:00:00           0.333333          level_10   \n",
       "2           2  2015-01-01 09:00:00           1.000000           level_9   \n",
       "3           3  2015-01-01 12:00:00           1.000000           level_8   \n",
       "4           4  2015-01-01 15:00:00           1.000000           level_7   \n",
       "\n",
       "   Bilbao_rain_1h  Valencia_wind_speed  Seville_humidity  Madrid_humidity  \\\n",
       "0             0.0             0.666667         74.333333        64.000000   \n",
       "1             0.0             1.666667         78.333333        64.666667   \n",
       "2             0.0             1.000000         71.333333        64.333333   \n",
       "3             0.0             1.000000         65.333333        56.333333   \n",
       "4             0.0             1.000000         59.000000        57.000000   \n",
       "\n",
       "   Bilbao_clouds_all  Bilbao_wind_speed  ...  Madrid_temp_max  Barcelona_temp  \\\n",
       "0                0.0           1.000000  ...       265.938000      281.013000   \n",
       "1                0.0           1.000000  ...       266.386667      280.561667   \n",
       "2                0.0           1.000000  ...       272.708667      281.583667   \n",
       "3                0.0           1.000000  ...       281.895219      283.434104   \n",
       "4                2.0           0.333333  ...       280.678437      284.213167   \n",
       "\n",
       "   Bilbao_temp_min  Bilbao_temp  Barcelona_temp_min  Bilbao_temp_max  \\\n",
       "0       269.338615   269.338615          281.013000       269.338615   \n",
       "1       270.376000   270.376000          280.561667       270.376000   \n",
       "2       275.027229   275.027229          281.583667       275.027229   \n",
       "3       281.135063   281.135063          283.434104       281.135063   \n",
       "4       282.252063   282.252063          284.213167       282.252063   \n",
       "\n",
       "   Seville_temp_min Madrid_temp  Madrid_temp_min  load_shortfall_3h  \n",
       "0        274.254667  265.938000       265.938000        6715.666667  \n",
       "1        274.945000  266.386667       266.386667        4171.666667  \n",
       "2        278.792000  272.708667       272.708667        4274.666667  \n",
       "3        285.394000  281.895219       281.895219        5075.666667  \n",
       "4        285.513719  280.678437       280.678437        6620.666667  \n",
       "\n",
       "[5 rows x 49 columns]"
      ]
     },
     "execution_count": 48,
     "metadata": {},
     "output_type": "execute_result"
    }
   ],
   "source": [
    "df_train = pd.read_csv(\"df_train.csv\")\n",
    "df_train.head()"
   ]
  },
  {
   "cell_type": "code",
   "execution_count": 49,
   "id": "eaf86969",
   "metadata": {},
   "outputs": [],
   "source": [
    "df_train.drop(['Unnamed: 0', 'time', 'Valencia_wind_deg', 'Seville_pressure', 'Valencia_pressure'], axis=1, inplace=True)"
   ]
  },
  {
   "cell_type": "code",
   "execution_count": 50,
   "id": "35c50bae",
   "metadata": {},
   "outputs": [],
   "source": [
    "y = df_train.load_shortfall_3h\n",
    "X = df_train.drop(['load_shortfall_3h'], axis=1)\n",
    "train_X, test_X, train_y, test_y = train_test_split(X, y, test_size=0.2)"
   ]
  },
  {
   "cell_type": "code",
   "execution_count": 51,
   "id": "5c328095",
   "metadata": {},
   "outputs": [],
   "source": [
    "# create model object\n",
    "randomforest =RandomForestRegressor()\n",
    "randomforest = randomforest.fit(train_X,train_y)"
   ]
  },
  {
   "cell_type": "code",
   "execution_count": 52,
   "id": "cb76cedc",
   "metadata": {},
   "outputs": [],
   "source": [
    "y_pred = randomforest.predict(X)"
   ]
  },
  {
   "cell_type": "code",
   "execution_count": 53,
   "id": "e4cdead7",
   "metadata": {},
   "outputs": [],
   "source": [
    "model_save_path = \"randomforest_model.pkl\"\n",
    "with open(model_save_path,'wb') as file:\n",
    "    pickle.dump(randomforest, file)"
   ]
  },
  {
   "cell_type": "code",
   "execution_count": 54,
   "id": "00d901b5",
   "metadata": {},
   "outputs": [],
   "source": [
    "#df_train_clean = df_train.copy()"
   ]
  },
  {
   "cell_type": "code",
   "execution_count": 55,
   "id": "9d3a6bee",
   "metadata": {},
   "outputs": [],
   "source": [
    "#df_train_clean['time'] = pd.to_datetime(df_train_clean['time'])"
   ]
  },
  {
   "cell_type": "code",
   "execution_count": 56,
   "id": "44aeee32",
   "metadata": {},
   "outputs": [],
   "source": [
    "#df_train_clean['Valencia_wind_deg'] = df_train_clean['Valencia_wind_deg'].str.extract('(\\d+)')"
   ]
  },
  {
   "cell_type": "code",
   "execution_count": 57,
   "id": "0a4b50b1",
   "metadata": {},
   "outputs": [],
   "source": [
    "#df_train_clean['Valencia_wind_deg'] = pd.to_numeric(df_train_clean['Valencia_wind_deg'])"
   ]
  },
  {
   "cell_type": "code",
   "execution_count": 58,
   "id": "800b9421",
   "metadata": {},
   "outputs": [],
   "source": [
    "#df_train_clean['Seville_pressure'] = df_train_clean['Seville_pressure'].str.extract('(\\d+)')"
   ]
  },
  {
   "cell_type": "code",
   "execution_count": 59,
   "id": "51c0e390",
   "metadata": {},
   "outputs": [],
   "source": [
    "#df_train_clean['Seville_pressure'] = pd.to_numeric(df_train_clean['Seville_pressure'])"
   ]
  },
  {
   "cell_type": "code",
   "execution_count": 60,
   "id": "ca7168d7",
   "metadata": {},
   "outputs": [],
   "source": [
    "# Replace NaN with Mean for Valencia Pressure\n",
    "#mean_Valencia_pressure=df_train_clean.Valencia_pressure.mean()\n",
    "#df_train_clean.loc[df_train_clean.Valencia_pressure.isnull(),'Valencia_pressure']=mean_Valencia_pressure"
   ]
  },
  {
   "cell_type": "code",
   "execution_count": 61,
   "id": "3f096d11",
   "metadata": {},
   "outputs": [],
   "source": [
    "#df_train_clean = df_train_clean.drop(['Unnamed: 0'], axis = 1)"
   ]
  },
  {
   "cell_type": "code",
   "execution_count": 62,
   "id": "22833e69",
   "metadata": {},
   "outputs": [],
   "source": [
    "#df_train_clean_no_time = df_train_clean.copy()"
   ]
  },
  {
   "cell_type": "code",
   "execution_count": 63,
   "id": "d8929d84",
   "metadata": {},
   "outputs": [],
   "source": [
    "#df_train_clean_no_time = df_train_clean_no_time.drop(['time'], axis = 1)"
   ]
  },
  {
   "cell_type": "code",
   "execution_count": 64,
   "id": "86fcf492",
   "metadata": {},
   "outputs": [],
   "source": [
    "#corr_matrix = df_train_clean_no_time.corr().abs()\n",
    "\n",
    "# Select upper triangle of correlation matrix\n",
    "#upper = corr_matrix.where(np.triu(np.ones(corr_matrix.shape), k=1).astype(bool))\n",
    "\n",
    "# Find features with correlation greater than 0.90\n",
    "#to_drop = [column for column in upper.columns if any(upper[column] > 0.90)]\n",
    "#print(to_drop)"
   ]
  },
  {
   "cell_type": "code",
   "execution_count": 65,
   "id": "1e8b3997",
   "metadata": {},
   "outputs": [],
   "source": [
    "#df_train_clean_no_time.drop(to_drop, axis=1, inplace=True)"
   ]
  },
  {
   "cell_type": "code",
   "execution_count": 66,
   "id": "9b155016",
   "metadata": {},
   "outputs": [],
   "source": [
    "#y = df_train_clean_no_time.load_shortfall_3h\n",
    "#X = df_train_clean_no_time.drop(['load_shortfall_3h'], axis=1)\n",
    "#train_X, test_X, train_y, test_y = train_test_split(X, y, test_size=0.2)"
   ]
  },
  {
   "cell_type": "code",
   "execution_count": 67,
   "id": "4407858c",
   "metadata": {},
   "outputs": [],
   "source": [
    "# create model object\n",
    "#randomforest =RandomForestRegressor()\n",
    "#randomforest = randomfor.fit(train_X,train_y)"
   ]
  },
  {
   "cell_type": "code",
   "execution_count": 68,
   "id": "a0618d41",
   "metadata": {},
   "outputs": [],
   "source": [
    "#y_pred = randomforest.predict(X)"
   ]
  },
  {
   "cell_type": "code",
   "execution_count": 69,
   "id": "ea05f60b",
   "metadata": {},
   "outputs": [
    {
     "data": {
      "text/plain": [
       "' \\nmodel_save_path = \"lin_model.pkl\"\\nwith open(model_save_path,\\'wb\\') as file:\\n    pickle.dump(lin_model, file)\\n'"
      ]
     },
     "execution_count": 69,
     "metadata": {},
     "output_type": "execute_result"
    }
   ],
   "source": [
    "\"\"\" \n",
    "model_save_path = \"lin_model.pkl\"\n",
    "with open(model_save_path,'wb') as file:\n",
    "    pickle.dump(lin_model, file)\n",
    "\"\"\""
   ]
  },
  {
   "cell_type": "code",
   "execution_count": 70,
   "id": "5bef944e",
   "metadata": {},
   "outputs": [],
   "source": [
    "#model_save_path = \"randomforest_model.pkl\"\n",
    "#with open(model_save_path,'wb') as file:\n",
    "#    pickle.dump(randomforest, file)"
   ]
  },
  {
   "cell_type": "code",
   "execution_count": null,
   "id": "dd9294bf",
   "metadata": {},
   "outputs": [],
   "source": []
  },
  {
   "cell_type": "code",
   "execution_count": null,
   "id": "8a9b08a6",
   "metadata": {},
   "outputs": [],
   "source": []
  }
 ],
 "metadata": {
  "kernelspec": {
   "display_name": "Python 3",
   "language": "python",
   "name": "python3"
  },
  "language_info": {
   "codemirror_mode": {
    "name": "ipython",
    "version": 3
   },
   "file_extension": ".py",
   "mimetype": "text/x-python",
   "name": "python",
   "nbconvert_exporter": "python",
   "pygments_lexer": "ipython3",
   "version": "3.8.8"
  }
 },
 "nbformat": 4,
 "nbformat_minor": 5
}
