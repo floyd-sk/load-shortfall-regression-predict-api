{
 "cells": [
  {
   "cell_type": "code",
   "execution_count": 16,
   "id": "1b3b1e11",
   "metadata": {},
   "outputs": [],
   "source": [
    "import pandas as pd\n",
    "import numpy as np\n",
    "from sklearn.model_selection import train_test_split\n",
    "from sklearn.ensemble import RandomForestRegressor\n",
    "\n",
    "import pickle"
   ]
  },
  {
   "cell_type": "code",
   "execution_count": 17,
   "id": "6acb24ad",
   "metadata": {},
   "outputs": [],
   "source": [
    "df_train = pd.read_csv(\"df_train.csv\")"
   ]
  },
  {
   "cell_type": "code",
   "execution_count": 18,
   "id": "19c93cc9",
   "metadata": {},
   "outputs": [],
   "source": [
    "df_train_new = df_train[['Madrid_wind_speed','Bilbao_rain_1h','Valencia_wind_speed','load_shortfall_3h']]"
   ]
  },
  {
   "cell_type": "code",
   "execution_count": 19,
   "id": "51a05edd",
   "metadata": {},
   "outputs": [],
   "source": [
    "y = df_train_new.load_shortfall_3h\n",
    "X = df_train_new.drop(['load_shortfall_3h'], axis=1)\n",
    "train_X, test_X, train_y, test_y = train_test_split(X, y, test_size=0.2)"
   ]
  },
  {
   "cell_type": "code",
   "execution_count": 20,
   "id": "67fcdf9f",
   "metadata": {},
   "outputs": [],
   "source": [
    "randomforest =RandomForestRegressor()\n",
    "randomforest = randomforest.fit(train_X,train_y)"
   ]
  },
  {
   "cell_type": "code",
   "execution_count": 21,
   "id": "4991b452",
   "metadata": {},
   "outputs": [],
   "source": [
    "y_pred = randomforest.predict(X)"
   ]
  },
  {
   "cell_type": "code",
   "execution_count": 22,
   "id": "39dd5900",
   "metadata": {},
   "outputs": [],
   "source": [
    "model_save_path = \"randomforest_model.pkl\"\n",
    "with open(model_save_path,'wb') as file:\n",
    "    pickle.dump(randomforest, file)"
   ]
  }
 ],
 "metadata": {
  "kernelspec": {
   "display_name": "Python 3",
   "language": "python",
   "name": "python3"
  },
  "language_info": {
   "codemirror_mode": {
    "name": "ipython",
    "version": 3
   },
   "file_extension": ".py",
   "mimetype": "text/x-python",
   "name": "python",
   "nbconvert_exporter": "python",
   "pygments_lexer": "ipython3",
   "version": "3.8.8"
  }
 },
 "nbformat": 4,
 "nbformat_minor": 5
}
